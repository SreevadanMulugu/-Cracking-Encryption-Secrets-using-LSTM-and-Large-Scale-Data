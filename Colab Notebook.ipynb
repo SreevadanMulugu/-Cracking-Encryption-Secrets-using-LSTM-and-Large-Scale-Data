{
  "cells": [
    {
      "cell_type": "markdown",
      "metadata": {
        "id": "view-in-github",
        "colab_type": "text"
      },
      "source": [
        "<a href=\"https://colab.research.google.com/github/SreevadanMulugu/-Cracking-Encryption-Secrets-using-LSTM-and-Large-Scale-Data/blob/main/Notebook.ipynb\" target=\"_parent\"><img src=\"https://colab.research.google.com/assets/colab-badge.svg\" alt=\"Open In Colab\"/></a>"
      ]
    },
    {
      "cell_type": "code",
      "execution_count": null,
      "metadata": {
        "colab": {
          "background_save": true
        },
        "id": "_lMenRmPDOYe"
      },
      "outputs": [],
      "source": [
        "\n",
        "import numpy as np\n",
        "import tensorflow as tf\n",
        "from tensorflow.keras.models import Sequential\n",
        "from tensorflow.keras.layers import Dense, LSTM\n",
        "from sklearn.model_selection import train_test_split\n",
        "import matplotlib.pyplot as plt\n",
        "import pandas as pd\n",
        "import secrets\n",
        "\n",
        "# Step 1: Generate random data within a specific range\n",
        "def generate_random_data(num_samples, sequence_length, min_value, max_value):\n",
        "    X = np.array([[secrets.randbelow(max_value - min_value) + min_value for _ in range(sequence_length)] for _ in range(num_samples)])\n",
        "    y = X  # Target labels are the same as the input sequences\n",
        "    return X, y\n",
        "\n",
        "# Generate random data\n",
        "num_samples = 100000\n",
        "sequence_length = 10\n",
        "min_value = 0  # Minimum value for random numbers\n",
        "max_value = 1000  # Maximum value for random numbers\n",
        "X, y = generate_random_data(num_samples, sequence_length, min_value, max_value)\n",
        "\n",
        "# Preprocess the data\n",
        "X = X.reshape(num_samples, sequence_length, 1)  # Reshape for LSTM input\n",
        "\n",
        "# Split the data into training and testing sets\n",
        "X_train, X_test, y_train, y_test = train_test_split(X, y, test_size=0.2, random_state=42)\n",
        "\n",
        "# Define a neural network model\n",
        "model = Sequential([\n",
        "    LSTM(50, return_sequences=True, input_shape=(sequence_length, 1)),  # Return sequences instead of a single value\n",
        "    Dense(1)\n",
        "])\n",
        "\n",
        "# Compile the model\n",
        "model.compile(optimizer='adam', loss='mse')\n",
        "\n",
        "# Train the model on the training data\n",
        "history = model.fit(X_train, y_train, epochs=120, batch_size=32, validation_data=(X_test, y_test))\n",
        "\n",
        "# Evaluate the model on the testing data\n",
        "loss = model.evaluate(X_test, y_test)\n",
        "print(\"Test Loss:\", loss)\n",
        "\n",
        "# Use the trained model to make predictions\n",
        "predictions = model.predict(X_test)\n",
        "\n",
        "# Reshape y_test to match the shape of predictions\n",
        "y_test_reshaped = y_test.reshape(predictions.shape)\n",
        "\n",
        "# Calculate MSE manually\n",
        "mse = np.mean(np.square(predictions - y_test_reshaped))\n",
        "print(\"Mean Squared Error:\", mse)\n",
        "\n",
        "# Define tolerance for accuracy calculation\n",
        "tolerance = 1  # Static tolerance limit\n",
        "\n",
        "# Calculate accuracy\n",
        "absolute_error = np.abs(predictions - y_test_reshaped)\n",
        "accurate_predictions = np.mean(absolute_error <= tolerance)\n",
        "accuracy = accurate_predictions * 100\n",
        "print(\"Accuracy:\", accuracy)\n",
        "\n",
        "# Plot training and validation loss curves\n",
        "plt.plot(history.history['loss'], label='Training Loss')\n",
        "plt.plot(history.history['val_loss'], label='Validation Loss')\n",
        "plt.xlabel('Epochs')\n",
        "plt.ylabel('Loss')\n",
        "plt.title('Training and Validation Loss')\n",
        "plt.legend()\n",
        "\n",
        "plt.show()\n"
      ]
    }
  ],
  "metadata": {
    "accelerator": "GPU",
    "colab": {
      "gpuType": "T4",
      "provenance": [],
      "authorship_tag": "ABX9TyN9BkmnismNc3f5o29Fc9yr",
      "include_colab_link": true
    },
    "kernelspec": {
      "display_name": "Python 3",
      "name": "python3"
    },
    "language_info": {
      "name": "python"
    }
  },
  "nbformat": 4,
  "nbformat_minor": 0
}
